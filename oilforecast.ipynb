{
 "cells": [
  {
   "cell_type": "code",
   "execution_count": 4,
   "id": "90f385f6",
   "metadata": {},
   "outputs": [],
   "source": [
    "!pip install yfinance pandas numpy statsmodels arch xgboost scikit-learn hmmlearn shap matplotlib seaborn --quiet"
   ]
  },
  {
   "cell_type": "code",
   "execution_count": 5,
   "id": "cc63d3de",
   "metadata": {},
   "outputs": [
    {
     "name": "stderr",
     "output_type": "stream",
     "text": [
      "c:\\Users\\Samneh\\Desktop\\oilforecast\\.venv\\Lib\\site-packages\\tqdm\\auto.py:21: TqdmWarning: IProgress not found. Please update jupyter and ipywidgets. See https://ipywidgets.readthedocs.io/en/stable/user_install.html\n",
      "  from .autonotebook import tqdm as notebook_tqdm\n"
     ]
    }
   ],
   "source": [
    "# Import libraries\n",
    "import pandas as pd\n",
    "import numpy as np\n",
    "import yfinance as yf\n",
    "import statsmodels.api as sm\n",
    "from statsmodels.tsa.api import ARIMA\n",
    "from arch import arch_model\n",
    "import xgboost as xgb\n",
    "from sklearn.ensemble import RandomForestRegressor\n",
    "from sklearn.linear_model import Ridge, LogisticRegression\n",
    "from sklearn.model_selection import TimeSeriesSplit\n",
    "from sklearn.metrics import accuracy_score, mean_squared_error, roc_auc_score\n",
    "from sklearn.preprocessing import StandardScaler\n",
    "from hmmlearn.hmm import GaussianHMM\n",
    "import shap\n",
    "import matplotlib.pyplot as plt\n",
    "import seaborn as sns\n",
    "import warnings\n",
    "\n",
    "# Configure settings\n",
    "warnings.filterwarnings('ignore')\n",
    "sns.set_style('whitegrid')\n",
    "plt.rcParams['figure.figsize'] = (12, 6)"
   ]
  },
  {
   "cell_type": "code",
   "execution_count": null,
   "id": "42b630dd",
   "metadata": {},
   "outputs": [
    {
     "name": "stdout",
     "output_type": "stream",
     "text": [
      "Data ingestion complete.\n",
      "Raw Data Head:\n",
      "            brent_price  wti_price        dxy  10y_yield        vix  \\\n",
      "Date                                                                  \n",
      "2007-07-30    75.739998  76.830002  80.849998      4.804  20.870001   \n",
      "2007-07-31    77.050003  78.209999  80.769997      4.771  23.520000   \n",
      "2007-08-01    75.349998  76.529999  80.870003      4.759  23.670000   \n",
      "2007-08-02    75.760002  76.860001  80.709999      4.753  21.219999   \n",
      "2007-08-03    74.750000  75.480003  80.180000      4.700  25.160000   \n",
      "\n",
      "            eia_inventories         cpi  industrial_production  \n",
      "Date                                                            \n",
      "2007-07-30              NaN         NaN                    NaN  \n",
      "2007-07-31              NaN  250.041367             100.045445  \n",
      "2007-08-01       493.205851         NaN                    NaN  \n",
      "2007-08-02              NaN         NaN                    NaN  \n",
      "2007-08-03              NaN         NaN                    NaN  \n"
     ]
    }
   ],
   "source": [
    "def ingest_data():\n",
    "    \"\"\"\n",
    "    Ingests raw time series data. Downloads daily data from Yahoo Finance and\n",
    "    simulates realistic weekly and monthly macroeconomic data.\n",
    "    \"\"\"\n",
    "\n",
    "# Here we have the tickers from yfinance, maybe switch soon to a more reliable source.\n",
    "    tickers = {\n",
    "        'CL=F': 'wti_price',   # WTI Crude Oil Futures\n",
    "        'BZ=F': 'brent_price', # Brent Crude Oil Futures\n",
    "        'DX-Y.NYB': 'dxy',     # US Dollar Index\n",
    "        '^TNX': '10y_yield',   # 10-Year Treasury Yield\n",
    "        '^VIX': 'vix'          # CBOE Volatility Index\n",
    "    }\n",
    "\n",
    "\n",
    "    end=datetime.now().strftime('%Y-%m-%d')\n",
    "    # From 2005 to today\n",
    "    data = yf.download(list(tickers.keys()), start='2005-01-01', end=end, progress=False) # just for the bar\n",
    "    # We're only working with the price at the end of the day, so this will be measured on the scale of days.\n",
    "    data = data['Close'] # The price is already adjusted for splits and dividends\n",
    "\n",
    "\n",
    "\n",
    "    \n",
    "    data = data.rename(columns=tickers)\n",
    "\n",
    "\n",
    "    # We can't have any missing values, so we'll forward fill them.\n",
    "    data = data.ffill().dropna() # Forward fill to handle non-trading days\n",
    "\n",
    "    # --- Simulate Weekly Data (EIA Inventories) ---\n",
    "    weekly_dates = pd.date_range(start=data.index.min(), end=data.index.max(), freq='W-WED') # We're using the end of the week as the measurement point.\n",
    "\n",
    "    # Ill have some random data here, but in reality this will be the EIA Inventories data, this will just trend up.\n",
    "    eia_inventories = pd.Series(\n",
    "        500 + (np.random.randn(len(weekly_dates)) * 10).cumsum(),\n",
    "        index=weekly_dates, name='eia_inventories'\n",
    "    )\n",
    "\n",
    "    # --- Simulate Monthly Data (CPI, Industrial Production) ---\n",
    "    monthly_dates = pd.date_range(start=data.index.min(), end=data.index.max(), freq='M')\n",
    "    cpi = pd.Series(\n",
    "        250 + (np.random.randn(len(monthly_dates)) * 0.5).cumsum(),\n",
    "        index=monthly_dates, name='cpi'\n",
    "    ) # We use 0.5 here because it represents inflation in a way, which is less volatile than the other data.\n",
    "\n",
    "\n",
    "    industrial_production = pd.Series(\n",
    "        100 + (np.random.randn(len(monthly_dates)) * 0.2).cumsum(),\n",
    "        index=monthly_dates, name='industrial_production'\n",
    "    ) # Very stable data, so we use 0.2.\n",
    "\n",
    "    # Merge all datasets into a single daily-frequency DataFrame\n",
    "    df = data.copy()\n",
    "    df = df.merge(eia_inventories, how='left', left_index=True, right_index=True)\n",
    "    df = df.merge(cpi, how='left', left_index=True, right_index=True)\n",
    "    df = df.merge(industrial_production, how='left', left_index=True, right_index=True)\n",
    "\n",
    "    # --- Data Catalog ---\n",
    "    metadata = {\n",
    "        'wti_price': {'frequency': 'daily', 'source': 'Yahoo Finance', 'publication_lag': '0D'},\n",
    "        'brent_price': {'frequency': 'daily', 'source': 'Yahoo Finance', 'publication_lag': '0D'},\n",
    "        'dxy': {'frequency': 'daily', 'source': 'Yahoo Finance', 'publication_lag': '0D'},\n",
    "        '10y_yield': {'frequency': 'daily', 'source': 'Yahoo Finance', 'publication_lag': '0D'},\n",
    "        'vix': {'frequency': 'daily', 'source': 'Yahoo Finance', 'publication_lag': '0D'},\n",
    "        'eia_inventories': {'frequency': 'weekly', 'source': 'Simulated', 'publication_lag': '5B'},\n",
    "        'cpi': {'frequency': 'monthly', 'source': 'Simulated', 'publication_lag': '10B'},\n",
    "        'industrial_production': {'frequency': 'monthly', 'source': 'Simulated', 'publication_lag': '12B'},\n",
    "    }\n",
    "\n",
    "    print(\"Data ingestion complete.\")\n",
    "    return df, metadata\n",
    "\n",
    "# Execute data ingestion\n",
    "raw_data, metadata = ingest_data()\n",
    "print(\"Raw Data Head:\")\n",
    "print(raw_data.head())"
   ]
  },
  {
   "cell_type": "code",
   "execution_count": null,
   "id": "a5c77f6c",
   "metadata": {},
   "outputs": [],
   "source": []
  }
 ],
 "metadata": {
  "kernelspec": {
   "display_name": ".venv",
   "language": "python",
   "name": "python3"
  },
  "language_info": {
   "codemirror_mode": {
    "name": "ipython",
    "version": 3
   },
   "file_extension": ".py",
   "mimetype": "text/x-python",
   "name": "python",
   "nbconvert_exporter": "python",
   "pygments_lexer": "ipython3",
   "version": "3.11.9"
  }
 },
 "nbformat": 4,
 "nbformat_minor": 5
}
